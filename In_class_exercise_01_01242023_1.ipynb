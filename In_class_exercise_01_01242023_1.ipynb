{
  "cells": [
    {
      "cell_type": "markdown",
      "metadata": {
        "id": "view-in-github"
      },
      "source": [
        "<a href=\"https://colab.research.google.com/github/unt-iialab/INFO5731_Spring2020/blob/master/In_class_exercise/In_class_exercise_01.ipynb\" target=\"_parent\"><img src=\"https://colab.research.google.com/assets/colab-badge.svg\" alt=\"Open In Colab\"/></a>"
      ]
    },
    {
      "cell_type": "markdown",
      "metadata": {
        "id": "DymRJbxDBCnf"
      },
      "source": [
        "# **The first In-class-exercise (01/24/2023, 40 points in total)**"
      ]
    },
    {
      "cell_type": "markdown",
      "metadata": {
        "id": "03jb4GZsBkBS"
      },
      "source": [
        "(1) Write a Python program to calculate the length of a string. (4 points)"
      ]
    },
    {
      "cell_type": "code",
      "execution_count": null,
      "metadata": {
        "colab": {
          "base_uri": "https://localhost:8080/"
        },
        "id": "YaGLbSHHB8Ej",
        "outputId": "5d4756c1-044d-4990-f5bd-a12bafddf700"
      },
      "outputs": [
        {
          "output_type": "stream",
          "name": "stdout",
          "text": [
            "Enter a string: 'Rajeev'\n",
            "Length of the string is: 8\n"
          ]
        }
      ],
      "source": [
        "# write your answer here\n",
        "str = input(\"Enter a string: \")\n",
        "length = len(str)\n",
        "print(\"Length of the string is:\", length)\n"
      ]
    },
    {
      "cell_type": "markdown",
      "metadata": {
        "id": "jJDe71iLB616"
      },
      "source": [
        "(2) Write a Python program to count the number of characters in a string. (4 points)\n",
        "\n",
        "Sample String : 'google.com‘, \n",
        "\n",
        "Expected Result : {'o': 3, 'g': 2, '.': 1, 'e': 1, 'l': 1, 'm': 1, 'c': 1}"
      ]
    },
    {
      "cell_type": "code",
      "execution_count": 7,
      "metadata": {
        "colab": {
          "base_uri": "https://localhost:8080/"
        },
        "id": "MtKskTzbCLaU",
        "outputId": "2822e338-7621-463f-b5b7-c6b9f1b4e588"
      },
      "outputs": [
        {
          "output_type": "stream",
          "name": "stdout",
          "text": [
            "{'g': 2, 'o': 3, 'l': 1, 'e': 1, '.': 1, 'c': 1, 'm': 1}\n"
          ]
        }
      ],
      "source": [
        "# write your answer here\n",
        "str = \"google.com\"\n",
        "character_count = {}\n",
        "\n",
        "for char in str:\n",
        "    if char in character_count:\n",
        "        character_count[char] += 1\n",
        "    else:\n",
        "        character_count[char] = 1\n",
        "\n",
        "# print the result \n",
        "print(character_count)\n"
      ]
    },
    {
      "cell_type": "markdown",
      "metadata": {
        "id": "55W9AMdXCSpV"
      },
      "source": [
        "(3) Write a Python program to sum all the items in a list. (4 points)"
      ]
    },
    {
      "cell_type": "code",
      "execution_count": 8,
      "metadata": {
        "colab": {
          "base_uri": "https://localhost:8080/"
        },
        "id": "I57NXsauCec2",
        "outputId": "028e585f-6346-470e-ec00-fe2c8a97eb4e"
      },
      "outputs": [
        {
          "output_type": "stream",
          "name": "stdout",
          "text": [
            "Sum of the list is: 5\n"
          ]
        }
      ],
      "source": [
        "# write your answer here\n",
        "list = [1, 2, 3, 4, -5]\n",
        "sum_of_all_list = sum(list)\n",
        "print(\"Sum of the list is:\", sum_of_all_list)\n"
      ]
    },
    {
      "cell_type": "markdown",
      "metadata": {
        "id": "4ulBZ6yhCi9F"
      },
      "source": [
        "(4) Write a Python program to get a string from a given string where all occurrences of its first char have been changed to '\\$', except the first char itself. (4 points)\n",
        "\n",
        "Sample String : 'restart‘, \n",
        "\n",
        "Expected Result : 'resta\\$t'"
      ]
    },
    {
      "cell_type": "code",
      "execution_count": 9,
      "metadata": {
        "colab": {
          "base_uri": "https://localhost:8080/"
        },
        "id": "Fj0XhwbBCw2o",
        "outputId": "cea66129-ba4d-407e-9359-721cacab7953"
      },
      "outputs": [
        {
          "output_type": "stream",
          "name": "stdout",
          "text": [
            "Modified string: resta$t\n"
          ]
        }
      ],
      "source": [
        "# write your answer here\n",
        "str = 'restart'\n",
        "first_character = str[0]\n",
        "modified_string = first_character\n",
        "\n",
        "for char in str[1:]:\n",
        "    if char == first_character:\n",
        "        modified_string += '$'\n",
        "    else:\n",
        "        modified_string += char\n",
        "\n",
        "print(\"Modified string:\", modified_string)\n"
      ]
    },
    {
      "cell_type": "markdown",
      "metadata": {
        "id": "_bIP7s1MCzue"
      },
      "source": [
        "(5) Write a program with python which could accept two parameter a and b to calculate and output the result of S, where \n",
        "\n",
        "$\\ S=3.14*(1+a/b)^3$ (4 points)\n",
        "\n"
      ]
    },
    {
      "cell_type": "code",
      "execution_count": null,
      "metadata": {
        "colab": {
          "base_uri": "https://localhost:8080/"
        },
        "id": "w79QilHXD3Mg",
        "outputId": "71920e7f-91ba-44c4-8fa5-bc92adccb4bf"
      },
      "outputs": [
        {
          "output_type": "stream",
          "name": "stdout",
          "text": [
            "Enter the value of a: 2\n",
            "Enter the value of b: 3\n",
            "The value of S is: 14.537037037037033\n"
          ]
        }
      ],
      "source": [
        "# write your answer here\n",
        "a = float(input(\"Enter the value of a: \"))\n",
        "b = float(input(\"Enter the value of b: \"))\n",
        "\n",
        "S = 3.14 * (1 + a / b) ** 3\n",
        "\n",
        "print(\"The value of S is:\", S)\n"
      ]
    },
    {
      "cell_type": "markdown",
      "metadata": {
        "id": "xCa2bK9aD4Q3"
      },
      "source": [
        "(6) Write a Python program to concatenate following dictionaries to create a new one. (4 points)\n",
        "\n",
        "Sample Dictionary : dic1={1:10, 2:20}, dic2={3:30, 4:40}, dic3={5:50,6:60}, \n",
        "\n",
        "Expected Result : {1: 10, 2: 20, 3: 30, 4: 40, 5: 50, 6: 60}\n"
      ]
    },
    {
      "cell_type": "code",
      "execution_count": 10,
      "metadata": {
        "colab": {
          "base_uri": "https://localhost:8080/"
        },
        "id": "_z4aLqAbEET1",
        "outputId": "10548a64-e484-4f2b-e437-a410ccb2d821"
      },
      "outputs": [
        {
          "output_type": "stream",
          "name": "stdout",
          "text": [
            "New dictionary: {1: 10, 2: 20, 3: 30, 4: 40, 5: 50, 6: 60}\n"
          ]
        }
      ],
      "source": [
        "# write your answer here\n",
        "dict1 = {1:10, 2:20}\n",
        "dict2 = {3:30, 4:40}\n",
        "dict3 = {5:50, 6:60}\n",
        "\n",
        "new_dict = {**dict1, **dict2, **dict3}\n",
        "\n",
        "print(\"New dictionary:\", new_dict)\n"
      ]
    },
    {
      "cell_type": "markdown",
      "metadata": {
        "id": "0v48Vqa7FrQh"
      },
      "source": [
        "(7) Write a Python program to check whether an element exists within a tuple. (4 points)"
      ]
    },
    {
      "cell_type": "code",
      "execution_count": 11,
      "metadata": {
        "colab": {
          "base_uri": "https://localhost:8080/"
        },
        "id": "7WEmgq-DF2P1",
        "outputId": "11c537c9-3651-483c-f5b4-667c0f692119"
      },
      "outputs": [
        {
          "output_type": "stream",
          "name": "stdout",
          "text": [
            "Element 10 does not exist in the tuple.\n"
          ]
        }
      ],
      "source": [
        "# write your answer here\n",
        "tuple = (1, 3, 5, 7, 9)\n",
        "element = 10\n",
        "\n",
        "if element in tuple:\n",
        "    print(\"Element\", element, \"exists in the tuple.\")\n",
        "else:\n",
        "    print(\"Element\", element, \"does not exist in the tuple.\")\n"
      ]
    },
    {
      "cell_type": "markdown",
      "metadata": {
        "id": "vD5PYLMuGga_"
      },
      "source": [
        "(8) Write a Python program to find maximum and the minimum value in a set. (4 points)"
      ]
    },
    {
      "cell_type": "code",
      "execution_count": 12,
      "metadata": {
        "colab": {
          "base_uri": "https://localhost:8080/"
        },
        "id": "t0D5kdJUGjjw",
        "outputId": "5c9ece4c-196e-4492-b370-864be20b38e3"
      },
      "outputs": [
        {
          "output_type": "stream",
          "name": "stdout",
          "text": [
            "Maximum value in the set: 9\n",
            "Minimum value in the set: 1\n"
          ]
        }
      ],
      "source": [
        "# write your answer here\n",
        "set = {3, 6, 1, 8, 2, 9}\n",
        "\n",
        "maximum_value = max(set)\n",
        "minimum_value = min(set)\n",
        "\n",
        "print(\"Maximum value in the set:\", maximum_value)\n",
        "print(\"Minimum value in the set:\", minimum_value)\n"
      ]
    },
    {
      "cell_type": "markdown",
      "metadata": {
        "id": "uHkd-y5VhVWC"
      },
      "source": [
        "(9) Write a Python program to randomly divide the students in this class into six groups for term projects, each group should have at least 4 students but no more than 6 students (including 6). Here is the students list: (4 points)\n",
        "\n",
        "studnet_list = ['ja0964','sa1198','sb1357','vb0218','sc1229','kg0569','kg0470','sg1297','bg0320','fh0141','jl1252','sk1386',\n",
        "           'ak0956','sk1390','sk1458','sk1313','ak0934','vm0377','nm0618','sm1640','sm1907','gn0108','pr0353','dr0609','ms1500','aos0040','ds0814', 'av0659','nv0234','hy0232']"
      ]
    },
    {
      "cell_type": "code",
      "execution_count": 6,
      "metadata": {
        "id": "3iGbmcOBhTwy",
        "colab": {
          "base_uri": "https://localhost:8080/"
        },
        "outputId": "ed017d84-8615-4e75-c070-a7802fe0bb65"
      },
      "outputs": [
        {
          "output_type": "stream",
          "name": "stdout",
          "text": [
            "Group 1: ['hy0232', 'sa1198', 'av0659', 'gn0108', 'sk1386', 'ms1500']\n",
            "Group 2: ['aos0040', 'sk1458', 'ds0814', 'sc1229', 'dr0609', 'kg0569']\n",
            "Group 3: ['jl1252', 'sk1313', 'fh0141', 'nv0234']\n",
            "Group 4: ['sg1297', 'sm1640', 'ak0934', 'sb1357', 'nm0618']\n",
            "Group 5: ['vb0218', 'vm0377', 'sm1907', 'ja0964', 'kg0470', 'ak0956']\n",
            "Group 6: ['pr0353', 'bg0320', 'sk1390']\n"
          ]
        }
      ],
      "source": [
        "# write your answer here\n",
        "import random\n",
        "\n",
        "student_list = ['ja0964','sa1198','sb1357','vb0218','sc1229','kg0569','kg0470',\n",
        "'sg1297','bg0320','fh0141','jl1252','sk1386','ak0956','sk1390',\n",
        "'sk1458','sk1313','ak0934','vm0377','nm0618','sm1640','sm1907',\n",
        "'gn0108','pr0353','dr0609','ms1500','aos0040','ds0814',\n",
        "'av0659','nv0234','hy0232']\n",
        "\n",
        "random.shuffle(student_list)\n",
        "\n",
        "groups = []\n",
        "start = 0\n",
        "\n",
        "while start < len(student_list):\n",
        "  end = start + random.randint(4, 6)\n",
        "  groups.append(student_list[start:end])\n",
        "  start = end\n",
        "\n",
        "for i, group in enumerate(groups, start=1):\n",
        "  print(f\"Group {i}: {group}\")"
      ]
    },
    {
      "cell_type": "markdown",
      "metadata": {
        "id": "ctk5ibCQoeUK"
      },
      "source": [
        "(10) Write a Python program to find the duplicate elements in a given array of integers. Return -1 If there are no such elements. (4 points)"
      ]
    },
    {
      "cell_type": "code",
      "source": [
        "def find_duplicate_elements(my_arr):\n",
        "    unique_elems = set()\n",
        "    duplicate_elems = set()\n",
        "\n",
        "    for elem in arr:\n",
        "        if elem in unique_elems:\n",
        "            duplicate_elems.add(elem)\n",
        "        else:\n",
        "            unique_elems.add(elem)\n",
        "\n",
        "    if len(duplicate_elems) > 0:\n",
        "        return list(duplicate_elems)\n",
        "    else:\n",
        "        return -1\n",
        "my_arr = [1, 2, 3, 4, 4, 5]\n",
        "result = find_duplicate_elements(my_arr)\n",
        "print(result)"
      ],
      "metadata": {
        "id": "a-YyAtqAH2UG"
      },
      "execution_count": 35,
      "outputs": []
    },
    {
      "cell_type": "markdown",
      "metadata": {
        "id": "-AMX3rFCoeUN"
      },
      "source": [
        "(11) Write a Python program to select all the Sundays of a specified year. (4 extra points)"
      ]
    },
    {
      "cell_type": "code",
      "execution_count": 37,
      "metadata": {
        "id": "YgTd8-hloeUO",
        "colab": {
          "base_uri": "https://localhost:8080/"
        },
        "outputId": "13e9c569-d9e2-4b60-b74e-ec2ce270d396"
      },
      "outputs": [
        {
          "output_type": "stream",
          "name": "stdout",
          "text": [
            "2022-01-02\n",
            "2022-01-09\n",
            "2022-01-16\n",
            "2022-01-23\n",
            "2022-01-30\n",
            "2022-02-06\n",
            "2022-02-13\n",
            "2022-02-20\n",
            "2022-02-27\n",
            "2022-03-06\n",
            "2022-03-13\n",
            "2022-03-20\n",
            "2022-03-27\n",
            "2022-04-03\n",
            "2022-04-10\n",
            "2022-04-17\n",
            "2022-04-24\n",
            "2022-05-01\n",
            "2022-05-08\n",
            "2022-05-15\n",
            "2022-05-22\n",
            "2022-05-29\n",
            "2022-06-05\n",
            "2022-06-12\n",
            "2022-06-19\n",
            "2022-06-26\n",
            "2022-07-03\n",
            "2022-07-10\n",
            "2022-07-17\n",
            "2022-07-24\n",
            "2022-07-31\n",
            "2022-08-07\n",
            "2022-08-14\n",
            "2022-08-21\n",
            "2022-08-28\n",
            "2022-09-04\n",
            "2022-09-11\n",
            "2022-09-18\n",
            "2022-09-25\n",
            "2022-10-02\n",
            "2022-10-09\n",
            "2022-10-16\n",
            "2022-10-23\n",
            "2022-10-30\n",
            "2022-11-06\n",
            "2022-11-13\n",
            "2022-11-20\n",
            "2022-11-27\n",
            "2022-12-04\n",
            "2022-12-11\n",
            "2022-12-18\n",
            "2022-12-25\n"
          ]
        }
      ],
      "source": [
        "# write your answer here\n",
        "from datetime import date, timedelta\n",
        "\n",
        "year = 2022\n",
        "all_sundays = []\n",
        "\n",
        "for month in range(1, 13):\n",
        "    for day in range(1, 32):\n",
        "        try:\n",
        "            dt = date(year, month, day)\n",
        "            if dt.weekday() == 6:\n",
        "                all_sundays.append(dt)\n",
        "        except ValueError:\n",
        "            break\n",
        "\n",
        "for sunday in all_sundays:\n",
        "    print(sunday)\n",
        "\n"
      ]
    }
  ],
  "metadata": {
    "colab": {
      "provenance": [],
      "gpuType": "T4"
    },
    "kernelspec": {
      "display_name": "Python 3 (ipykernel)",
      "language": "python",
      "name": "python3"
    },
    "language_info": {
      "codemirror_mode": {
        "name": "ipython",
        "version": 3
      },
      "file_extension": ".py",
      "mimetype": "text/x-python",
      "name": "python",
      "nbconvert_exporter": "python",
      "pygments_lexer": "ipython3",
      "version": "3.9.12"
    },
    "accelerator": "GPU",
    "gpuClass": "standard"
  },
  "nbformat": 4,
  "nbformat_minor": 0
}